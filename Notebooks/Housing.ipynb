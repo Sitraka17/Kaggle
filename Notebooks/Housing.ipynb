{
 "cells": [
  {
   "cell_type": "code",
   "execution_count": null,
   "metadata": {},
   "outputs": [],
   "source": [
    "Tranoy"
   ]
  },
  {
   "cell_type": "code",
   "execution_count": null,
   "metadata": {},
   "outputs": [],
   "source": [
    "#Source: https://www.kaggle.com/competitions/house-prices-advanced-regression-techniques\n"
   ]
  },
  {
   "cell_type": "code",
   "execution_count": 1,
   "metadata": {},
   "outputs": [],
   "source": [
    "import pyarrow as pa\n",
    "import pandas as pd\n",
    "\n",
    "df = pd.DataFrame({\"a\": [1, 2, 3]})\n",
    "# Convert from pandas to Arrow\n",
    "table = pa.Table.from_pandas(df)\n",
    "# Convert back to pandas\n",
    "df_new = table.to_pandas()\n",
    "\n",
    "# Infer Arrow schema from pandas\n",
    "schema = pa.Schema.from_pandas(df)"
   ]
  },
  {
   "cell_type": "code",
   "execution_count": 2,
   "metadata": {},
   "outputs": [
    {
     "ename": "ModuleNotFoundError",
     "evalue": "No module named 'polars'",
     "output_type": "error",
     "traceback": [
      "\u001b[1;31m---------------------------------------------------------------------------\u001b[0m",
      "\u001b[1;31mModuleNotFoundError\u001b[0m                       Traceback (most recent call last)",
      "\u001b[1;32mc:\\Users\\sitra\\OneDrive\\Documents\\Data\\Kaggle\\Notebooks\\Housing.ipynb Cell 4\u001b[0m in \u001b[0;36m<cell line: 2>\u001b[1;34m()\u001b[0m\n\u001b[0;32m      <a href='vscode-notebook-cell:/c%3A/Users/sitra/OneDrive/Documents/Data/Kaggle/Notebooks/Housing.ipynb#W3sZmlsZQ%3D%3D?line=0'>1</a>\u001b[0m \u001b[39mimport\u001b[39;00m \u001b[39mpandas\u001b[39;00m \u001b[39mas\u001b[39;00m \u001b[39mpd\u001b[39;00m\n\u001b[1;32m----> <a href='vscode-notebook-cell:/c%3A/Users/sitra/OneDrive/Documents/Data/Kaggle/Notebooks/Housing.ipynb#W3sZmlsZQ%3D%3D?line=1'>2</a>\u001b[0m \u001b[39mimport\u001b[39;00m \u001b[39mpolars\u001b[39;00m \u001b[39mas\u001b[39;00m \u001b[39mpl\u001b[39;00m\n\u001b[0;32m      <a href='vscode-notebook-cell:/c%3A/Users/sitra/OneDrive/Documents/Data/Kaggle/Notebooks/Housing.ipynb#W3sZmlsZQ%3D%3D?line=2'>3</a>\u001b[0m \u001b[39mimport\u001b[39;00m \u001b[39mtime\u001b[39;00m\n\u001b[0;32m      <a href='vscode-notebook-cell:/c%3A/Users/sitra/OneDrive/Documents/Data/Kaggle/Notebooks/Housing.ipynb#W3sZmlsZQ%3D%3D?line=3'>4</a>\u001b[0m \u001b[39mimport\u001b[39;00m \u001b[39mmatplotlib\u001b[39;00m\u001b[39m.\u001b[39;00m\u001b[39mpyplot\u001b[39;00m \u001b[39mas\u001b[39;00m \u001b[39mplt\u001b[39;00m\n",
      "\u001b[1;31mModuleNotFoundError\u001b[0m: No module named 'polars'"
     ]
    }
   ],
   "source": [
    "import pandas as pd\n",
    "import polars as pl\n",
    "import time\n",
    "import matplotlib.pyplot as plt\n",
    "\n",
    "# Reading Data From a CSV File\n",
    "pandas_time = []\n",
    "polars_time = []\n",
    "for i in range(5):\n",
    "    start = time.time()\n",
    "    df_pandas = pd.read_csv(\"/content/train.csv\")\n",
    "    end = time.time()\n",
    "    pandas_time.append(end-start)\n",
    "\n",
    "    start = time.time()\n",
    "    df_polars = pl.read_csv(\"/content/train.csv\")\n",
    "    end = time.time()\n",
    "    polars_time.append(end-start)\n",
    "\n",
    "pandas_mean = sum(pandas_time)/5\n",
    "polars_mean = sum(polars_time)/5\n",
    "\n",
    "plt.bar(['Pandas', 'Polars'], [pandas_mean, polars_mean])\n",
    "plt.title('Reading Data From a CSV File')\n",
    "plt.xlabel('Library')\n",
    "plt.ylabel('Time (s)')\n",
    "plt.show()\n",
    "\n",
    "# Selecting Columns\n",
    "pandas_time = []\n",
    "polars_time = []\n",
    "for i in range(5):\n",
    "    start = time.time()\n",
    "    df_pandas_select = df_pandas[[\"User_ID\", \"Gender\", \"Purchase\"]]\n",
    "    end = time.time()\n",
    "    pandas_time.append(end-start)\n",
    "\n",
    "    start = time.time()\n",
    "    df_polars_select = df_polars.select([\"User_ID\", \"Gender\", \"Purchase\"])\n",
    "    end = time.time()\n",
    "    polars_time.append(end-start)\n",
    "\n",
    "pandas_mean = sum(pandas_time)/5\n",
    "polars_mean = sum(polars_time)/5\n",
    "\n",
    "plt.bar(['Pandas', 'Polars'], [pandas_mean, polars_mean])\n",
    "plt.title('Selecting Columns')\n",
    "plt.xlabel('Library')\n",
    "plt.ylabel('Time (s)')\n",
    "plt.show()\n",
    "\n",
    "# Filtering Rows\n",
    "pandas_time = []\n",
    "polars_time = []\n",
    "for i in range(5):\n",
    "    start = time.time()\n",
    "    df_pandas_filter = df_pandas.loc[df_pandas[\"Age\"] == \"0-17\"]\n",
    "    end = time.time()\n",
    "    pandas_time.append(end-start)\n",
    "\n",
    "    start = time.time()\n",
    "    df_polars_filter = df_polars.filter(pl.col(\"Age\") == \"0-17\")\n",
    "    end = time.time()\n",
    "    polars_time.append(end-start)\n",
    "\n",
    "pandas_mean = sum(pandas_time)/5\n",
    "polars_mean = sum(polars_time)/5\n",
    "\n",
    "plt.bar(['Pandas', 'Polars'], [pandas_mean, polars_mean])\n",
    "plt.title('Filtering Rows')\n",
    "plt.xlabel('Library')\n",
    "plt.ylabel('Time (s)')\n",
    "plt.show()"
   ]
  },
  {
   "cell_type": "code",
   "execution_count": 1,
   "metadata": {},
   "outputs": [
    {
     "ename": "ModuleNotFoundError",
     "evalue": "No module named 'polars'",
     "output_type": "error",
     "traceback": [
      "\u001b[1;31m---------------------------------------------------------------------------\u001b[0m",
      "\u001b[1;31mModuleNotFoundError\u001b[0m                       Traceback (most recent call last)",
      "\u001b[1;32mc:\\Users\\sitra\\OneDrive\\Documents\\Data\\Kaggle\\Notebooks\\Housing.ipynb Cell 5\u001b[0m in \u001b[0;36m<cell line: 1>\u001b[1;34m()\u001b[0m\n\u001b[1;32m----> <a href='vscode-notebook-cell:/c%3A/Users/sitra/OneDrive/Documents/Data/Kaggle/Notebooks/Housing.ipynb#W4sZmlsZQ%3D%3D?line=0'>1</a>\u001b[0m \u001b[39mimport\u001b[39;00m \u001b[39mpolars\u001b[39;00m \u001b[39mas\u001b[39;00m \u001b[39mpl\u001b[39;00m \n\u001b[0;32m      <a href='vscode-notebook-cell:/c%3A/Users/sitra/OneDrive/Documents/Data/Kaggle/Notebooks/Housing.ipynb#W4sZmlsZQ%3D%3D?line=2'>3</a>\u001b[0m \u001b[39m# First create a simple DataFrame\u001b[39;00m\n\u001b[0;32m      <a href='vscode-notebook-cell:/c%3A/Users/sitra/OneDrive/Documents/Data/Kaggle/Notebooks/Housing.ipynb#W4sZmlsZQ%3D%3D?line=3'>4</a>\u001b[0m df \u001b[39m=\u001b[39m pl\u001b[39m.\u001b[39mDataFrame({\n\u001b[0;32m      <a href='vscode-notebook-cell:/c%3A/Users/sitra/OneDrive/Documents/Data/Kaggle/Notebooks/Housing.ipynb#W4sZmlsZQ%3D%3D?line=4'>5</a>\u001b[0m     \u001b[39m\"\u001b[39m\u001b[39mtransaction_id\u001b[39m\u001b[39m\"\u001b[39m: [\u001b[39m1\u001b[39m, \u001b[39m2\u001b[39m, \u001b[39m3\u001b[39m, \u001b[39m4\u001b[39m, \u001b[39m5\u001b[39m, \u001b[39m6\u001b[39m],\n\u001b[0;32m      <a href='vscode-notebook-cell:/c%3A/Users/sitra/OneDrive/Documents/Data/Kaggle/Notebooks/Housing.ipynb#W4sZmlsZQ%3D%3D?line=5'>6</a>\u001b[0m     \u001b[39m\"\u001b[39m\u001b[39mtransaction_amount\u001b[39m\u001b[39m\"\u001b[39m: [\u001b[39m10.1\u001b[39m, \u001b[39m8.5\u001b[39m, \u001b[39m5.6\u001b[39m, \u001b[39m10.11\u001b[39m, \u001b[39m23.1\u001b[39m, \u001b[39m-\u001b[39m\u001b[39m1\u001b[39m],\n\u001b[0;32m      <a href='vscode-notebook-cell:/c%3A/Users/sitra/OneDrive/Documents/Data/Kaggle/Notebooks/Housing.ipynb#W4sZmlsZQ%3D%3D?line=6'>7</a>\u001b[0m     \u001b[39m\"\u001b[39m\u001b[39muser_id\u001b[39m\u001b[39m\"\u001b[39m: [\u001b[39m1\u001b[39m,\u001b[39m2\u001b[39m,\u001b[39m1\u001b[39m,\u001b[39m3\u001b[39m,\u001b[39m1\u001b[39m, \u001b[39m2\u001b[39m]\n\u001b[0;32m      <a href='vscode-notebook-cell:/c%3A/Users/sitra/OneDrive/Documents/Data/Kaggle/Notebooks/Housing.ipynb#W4sZmlsZQ%3D%3D?line=7'>8</a>\u001b[0m })\n",
      "\u001b[1;31mModuleNotFoundError\u001b[0m: No module named 'polars'"
     ]
    }
   ],
   "source": [
    "import polars as pl \n",
    "\n",
    "# First create a simple DataFrame\n",
    "df = pl.DataFrame({\n",
    "    \"transaction_id\": [1, 2, 3, 4, 5, 6],\n",
    "    \"transaction_amount\": [10.1, 8.5, 5.6, 10.11, 23.1, -1],\n",
    "    \"user_id\": [1,2,1,3,1, 2]\n",
    "})\n",
    "\n",
    "# Let's filter invalid transaction amounts\n",
    "df_having_valid_transactions = df.filter(pl.col(\"transaction_amount\") >= 0)\n",
    "\n",
    "# Now let's get the average amount by user\n",
    "df_mean_transaction_by_user = df_with_valid_transactions.groupby(\"user_id\").agg(pl.mean(\"transaction_amount\"))\n",
    "\n",
    "df_mean_transaction_by_user"
   ]
  }
 ],
 "metadata": {
  "kernelspec": {
   "display_name": "Python 3",
   "language": "python",
   "name": "python3"
  },
  "language_info": {
   "codemirror_mode": {
    "name": "ipython",
    "version": 3
   },
   "file_extension": ".py",
   "mimetype": "text/x-python",
   "name": "python",
   "nbconvert_exporter": "python",
   "pygments_lexer": "ipython3",
   "version": "3.10.11"
  },
  "orig_nbformat": 4
 },
 "nbformat": 4,
 "nbformat_minor": 2
}
