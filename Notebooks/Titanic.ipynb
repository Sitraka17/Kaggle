{
 "cells": [
  {
   "cell_type": "code",
   "execution_count": null,
   "metadata": {},
   "outputs": [],
   "source": [
    "#In fact it's all here: https://www.kaggle.com/code/sitrakamatthew/beginner-titanic/edit\n"
   ]
  }
 ],
 "metadata": {
  "kernelspec": {
   "display_name": "Python 3",
   "language": "python",
   "name": "python3"
  },
  "language_info": {
   "name": "python",
   "version": "3.10.10"
  },
  "orig_nbformat": 4,
  "vscode": {
   "interpreter": {
    "hash": "eb17fa29bd96fd4ce5a6252c0a8f443f32b313fbe6a3474c9cf7084660dab2e5"
   }
  }
 },
 "nbformat": 4,
 "nbformat_minor": 2
}
