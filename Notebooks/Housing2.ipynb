{
 "cells": [
  {
   "attachments": {},
   "cell_type": "markdown",
   "metadata": {},
   "source": [
    "Alors le but de ce markdown est de présenter le marché immobilier . \n",
    "\n",
    "![Immo](ImmoLuxPaper.jpg)"
   ]
  },
  {
   "cell_type": "code",
   "execution_count": 4,
   "metadata": {},
   "outputs": [
    {
     "name": "stdout",
     "output_type": "stream",
     "text": [
      "Requirement already satisfied: osmnx in c:\\users\\sitra\\appdata\\local\\packages\\pythonsoftwarefoundation.python.3.10_qbz5n2kfra8p0\\localcache\\local-packages\\python310\\site-packages (1.3.0)\n",
      "Requirement already satisfied: networkx>=2.8 in c:\\users\\sitra\\appdata\\local\\packages\\pythonsoftwarefoundation.python.3.10_qbz5n2kfra8p0\\localcache\\local-packages\\python310\\site-packages (from osmnx) (3.0)\n",
      "Requirement already satisfied: geopandas>=0.12 in c:\\users\\sitra\\appdata\\local\\packages\\pythonsoftwarefoundation.python.3.10_qbz5n2kfra8p0\\localcache\\local-packages\\python310\\site-packages (from osmnx) (0.12.2)\n",
      "Requirement already satisfied: numpy>=1.23 in c:\\users\\sitra\\appdata\\local\\packages\\pythonsoftwarefoundation.python.3.10_qbz5n2kfra8p0\\localcache\\local-packages\\python310\\site-packages (from osmnx) (1.23.2)\n",
      "Requirement already satisfied: pandas>=1.5 in c:\\users\\sitra\\appdata\\local\\packages\\pythonsoftwarefoundation.python.3.10_qbz5n2kfra8p0\\localcache\\local-packages\\python310\\site-packages (from osmnx) (1.5.3)\n",
      "Requirement already satisfied: pyproj>=3.4 in c:\\users\\sitra\\appdata\\local\\packages\\pythonsoftwarefoundation.python.3.10_qbz5n2kfra8p0\\localcache\\local-packages\\python310\\site-packages (from osmnx) (3.4.1)\n",
      "Requirement already satisfied: python-dateutil>=2.8 in c:\\users\\sitra\\appdata\\local\\packages\\pythonsoftwarefoundation.python.3.10_qbz5n2kfra8p0\\localcache\\local-packages\\python310\\site-packages (from osmnx) (2.8.2)\n",
      "Requirement already satisfied: Shapely>=2.0 in c:\\users\\sitra\\appdata\\local\\packages\\pythonsoftwarefoundation.python.3.10_qbz5n2kfra8p0\\localcache\\local-packages\\python310\\site-packages (from osmnx) (2.0.0)\n",
      "Requirement already satisfied: matplotlib>=3.5 in c:\\users\\sitra\\appdata\\local\\packages\\pythonsoftwarefoundation.python.3.10_qbz5n2kfra8p0\\localcache\\local-packages\\python310\\site-packages (from osmnx) (3.6.0)\n",
      "Requirement already satisfied: requests>=2.28 in c:\\users\\sitra\\appdata\\local\\packages\\pythonsoftwarefoundation.python.3.10_qbz5n2kfra8p0\\localcache\\local-packages\\python310\\site-packages (from osmnx) (2.28.2)\n",
      "Requirement already satisfied: packaging in c:\\users\\sitra\\appdata\\local\\packages\\pythonsoftwarefoundation.python.3.10_qbz5n2kfra8p0\\localcache\\local-packages\\python310\\site-packages (from geopandas>=0.12->osmnx) (21.3)\n",
      "Requirement already satisfied: fiona>=1.8 in c:\\users\\sitra\\appdata\\local\\packages\\pythonsoftwarefoundation.python.3.10_qbz5n2kfra8p0\\localcache\\local-packages\\python310\\site-packages (from geopandas>=0.12->osmnx) (1.8.22)\n",
      "Requirement already satisfied: pillow>=6.2.0 in c:\\users\\sitra\\appdata\\local\\packages\\pythonsoftwarefoundation.python.3.10_qbz5n2kfra8p0\\localcache\\local-packages\\python310\\site-packages (from matplotlib>=3.5->osmnx) (9.0.1)\n",
      "Requirement already satisfied: contourpy>=1.0.1 in c:\\users\\sitra\\appdata\\local\\packages\\pythonsoftwarefoundation.python.3.10_qbz5n2kfra8p0\\localcache\\local-packages\\python310\\site-packages (from matplotlib>=3.5->osmnx) (1.0.5)\n",
      "Requirement already satisfied: kiwisolver>=1.0.1 in c:\\users\\sitra\\appdata\\local\\packages\\pythonsoftwarefoundation.python.3.10_qbz5n2kfra8p0\\localcache\\local-packages\\python310\\site-packages (from matplotlib>=3.5->osmnx) (1.4.4)\n",
      "Requirement already satisfied: cycler>=0.10 in c:\\users\\sitra\\appdata\\local\\packages\\pythonsoftwarefoundation.python.3.10_qbz5n2kfra8p0\\localcache\\local-packages\\python310\\site-packages (from matplotlib>=3.5->osmnx) (0.11.0)\n",
      "Requirement already satisfied: pyparsing>=2.2.1 in c:\\users\\sitra\\appdata\\local\\packages\\pythonsoftwarefoundation.python.3.10_qbz5n2kfra8p0\\localcache\\local-packages\\python310\\site-packages (from matplotlib>=3.5->osmnx) (3.0.9)\n",
      "Requirement already satisfied: fonttools>=4.22.0 in c:\\users\\sitra\\appdata\\local\\packages\\pythonsoftwarefoundation.python.3.10_qbz5n2kfra8p0\\localcache\\local-packages\\python310\\site-packages (from matplotlib>=3.5->osmnx) (4.37.4)\n",
      "Requirement already satisfied: pytz>=2020.1 in c:\\users\\sitra\\appdata\\local\\packages\\pythonsoftwarefoundation.python.3.10_qbz5n2kfra8p0\\localcache\\local-packages\\python310\\site-packages (from pandas>=1.5->osmnx) (2022.7.1)\n",
      "Requirement already satisfied: certifi in c:\\users\\sitra\\appdata\\local\\packages\\pythonsoftwarefoundation.python.3.10_qbz5n2kfra8p0\\localcache\\local-packages\\python310\\site-packages (from pyproj>=3.4->osmnx) (2022.9.24)\n",
      "Requirement already satisfied: six>=1.5 in c:\\users\\sitra\\appdata\\local\\packages\\pythonsoftwarefoundation.python.3.10_qbz5n2kfra8p0\\localcache\\local-packages\\python310\\site-packages (from python-dateutil>=2.8->osmnx) (1.16.0)\n",
      "Requirement already satisfied: idna<4,>=2.5 in c:\\users\\sitra\\appdata\\local\\packages\\pythonsoftwarefoundation.python.3.10_qbz5n2kfra8p0\\localcache\\local-packages\\python310\\site-packages (from requests>=2.28->osmnx) (3.4)\n",
      "Requirement already satisfied: charset-normalizer<4,>=2 in c:\\users\\sitra\\appdata\\local\\packages\\pythonsoftwarefoundation.python.3.10_qbz5n2kfra8p0\\localcache\\local-packages\\python310\\site-packages (from requests>=2.28->osmnx) (2.0.12)\n",
      "Requirement already satisfied: urllib3<1.27,>=1.21.1 in c:\\users\\sitra\\appdata\\local\\packages\\pythonsoftwarefoundation.python.3.10_qbz5n2kfra8p0\\localcache\\local-packages\\python310\\site-packages (from requests>=2.28->osmnx) (1.26.12)\n",
      "Requirement already satisfied: munch in c:\\users\\sitra\\appdata\\local\\packages\\pythonsoftwarefoundation.python.3.10_qbz5n2kfra8p0\\localcache\\local-packages\\python310\\site-packages (from fiona>=1.8->geopandas>=0.12->osmnx) (2.5.0)\n",
      "Requirement already satisfied: click>=4.0 in c:\\users\\sitra\\appdata\\local\\packages\\pythonsoftwarefoundation.python.3.10_qbz5n2kfra8p0\\localcache\\local-packages\\python310\\site-packages (from fiona>=1.8->geopandas>=0.12->osmnx) (8.1.3)\n",
      "Requirement already satisfied: attrs>=17 in c:\\users\\sitra\\appdata\\local\\packages\\pythonsoftwarefoundation.python.3.10_qbz5n2kfra8p0\\localcache\\local-packages\\python310\\site-packages (from fiona>=1.8->geopandas>=0.12->osmnx) (20.3.0)\n",
      "Requirement already satisfied: setuptools in c:\\program files\\windowsapps\\pythonsoftwarefoundation.python.3.10_3.10.3056.0_x64__qbz5n2kfra8p0\\lib\\site-packages (from fiona>=1.8->geopandas>=0.12->osmnx) (65.5.0)\n",
      "Requirement already satisfied: click-plugins>=1.0 in c:\\users\\sitra\\appdata\\local\\packages\\pythonsoftwarefoundation.python.3.10_qbz5n2kfra8p0\\localcache\\local-packages\\python310\\site-packages (from fiona>=1.8->geopandas>=0.12->osmnx) (1.1.1)\n",
      "Requirement already satisfied: cligj>=0.5 in c:\\users\\sitra\\appdata\\local\\packages\\pythonsoftwarefoundation.python.3.10_qbz5n2kfra8p0\\localcache\\local-packages\\python310\\site-packages (from fiona>=1.8->geopandas>=0.12->osmnx) (0.7.2)\n",
      "Requirement already satisfied: colorama in c:\\users\\sitra\\appdata\\local\\packages\\pythonsoftwarefoundation.python.3.10_qbz5n2kfra8p0\\localcache\\local-packages\\python310\\site-packages (from click>=4.0->fiona>=1.8->geopandas>=0.12->osmnx) (0.4.6)\n"
     ]
    },
    {
     "name": "stderr",
     "output_type": "stream",
     "text": [
      "\n",
      "[notice] A new release of pip is available: 23.0.1 -> 23.1\n",
      "[notice] To update, run: C:\\Users\\sitra\\AppData\\Local\\Microsoft\\WindowsApps\\PythonSoftwareFoundation.Python.3.10_qbz5n2kfra8p0\\python.exe -m pip install --upgrade pip\n"
     ]
    }
   ],
   "source": [
    "!pip install osmnx"
   ]
  },
  {
   "cell_type": "code",
   "execution_count": 5,
   "metadata": {},
   "outputs": [
    {
     "ename": "ValueError",
     "evalue": "Unrecognized network_type \"railway\"",
     "output_type": "error",
     "traceback": [
      "\u001b[1;31m---------------------------------------------------------------------------\u001b[0m",
      "\u001b[1;31mValueError\u001b[0m                                Traceback (most recent call last)",
      "\u001b[1;32mc:\\Users\\sitra\\OneDrive\\Documents\\Data\\Kaggle\\Notebooks\\Housing2.ipynb Cell 3\u001b[0m in \u001b[0;36m<cell line: 9>\u001b[1;34m()\u001b[0m\n\u001b[0;32m      <a href='vscode-notebook-cell:/c%3A/Users/sitra/OneDrive/Documents/Data/Kaggle/Notebooks/Housing2.ipynb#W1sZmlsZQ%3D%3D?line=5'>6</a>\u001b[0m network_type \u001b[39m=\u001b[39m \u001b[39m\"\u001b[39m\u001b[39mrailway\u001b[39m\u001b[39m\"\u001b[39m\n\u001b[0;32m      <a href='vscode-notebook-cell:/c%3A/Users/sitra/OneDrive/Documents/Data/Kaggle/Notebooks/Housing2.ipynb#W1sZmlsZQ%3D%3D?line=7'>8</a>\u001b[0m \u001b[39m# Retrieve the network data\u001b[39;00m\n\u001b[1;32m----> <a href='vscode-notebook-cell:/c%3A/Users/sitra/OneDrive/Documents/Data/Kaggle/Notebooks/Housing2.ipynb#W1sZmlsZQ%3D%3D?line=8'>9</a>\u001b[0m G \u001b[39m=\u001b[39m ox\u001b[39m.\u001b[39;49mgraph_from_place(location, network_type\u001b[39m=\u001b[39;49mnetwork_type)\n\u001b[0;32m     <a href='vscode-notebook-cell:/c%3A/Users/sitra/OneDrive/Documents/Data/Kaggle/Notebooks/Housing2.ipynb#W1sZmlsZQ%3D%3D?line=10'>11</a>\u001b[0m \u001b[39m# Create the plot\u001b[39;00m\n\u001b[0;32m     <a href='vscode-notebook-cell:/c%3A/Users/sitra/OneDrive/Documents/Data/Kaggle/Notebooks/Housing2.ipynb#W1sZmlsZQ%3D%3D?line=11'>12</a>\u001b[0m fig, ax \u001b[39m=\u001b[39m ox\u001b[39m.\u001b[39mplot_graph(G, node_size\u001b[39m=\u001b[39m\u001b[39m0\u001b[39m, edge_linewidth\u001b[39m=\u001b[39m\u001b[39m1.5\u001b[39m, edge_color\u001b[39m=\u001b[39m\u001b[39m\"\u001b[39m\u001b[39mblack\u001b[39m\u001b[39m\"\u001b[39m)\n",
      "File \u001b[1;32m~\\AppData\\Local\\Packages\\PythonSoftwareFoundation.Python.3.10_qbz5n2kfra8p0\\LocalCache\\local-packages\\Python310\\site-packages\\osmnx\\graph.py:351\u001b[0m, in \u001b[0;36mgraph_from_place\u001b[1;34m(query, network_type, simplify, retain_all, truncate_by_edge, which_result, buffer_dist, clean_periphery, custom_filter)\u001b[0m\n\u001b[0;32m    348\u001b[0m utils\u001b[39m.\u001b[39mlog(\u001b[39m\"\u001b[39m\u001b[39mConstructed place geometry polygon(s) to query API\u001b[39m\u001b[39m\"\u001b[39m)\n\u001b[0;32m    350\u001b[0m \u001b[39m# create graph using this polygon(s) geometry\u001b[39;00m\n\u001b[1;32m--> 351\u001b[0m G \u001b[39m=\u001b[39m graph_from_polygon(\n\u001b[0;32m    352\u001b[0m     polygon,\n\u001b[0;32m    353\u001b[0m     network_type\u001b[39m=\u001b[39;49mnetwork_type,\n\u001b[0;32m    354\u001b[0m     simplify\u001b[39m=\u001b[39;49msimplify,\n\u001b[0;32m    355\u001b[0m     retain_all\u001b[39m=\u001b[39;49mretain_all,\n\u001b[0;32m    356\u001b[0m     truncate_by_edge\u001b[39m=\u001b[39;49mtruncate_by_edge,\n\u001b[0;32m    357\u001b[0m     clean_periphery\u001b[39m=\u001b[39;49mclean_periphery,\n\u001b[0;32m    358\u001b[0m     custom_filter\u001b[39m=\u001b[39;49mcustom_filter,\n\u001b[0;32m    359\u001b[0m )\n\u001b[0;32m    361\u001b[0m utils\u001b[39m.\u001b[39mlog(\u001b[39mf\u001b[39m\u001b[39m\"\u001b[39m\u001b[39mgraph_from_place returned graph with \u001b[39m\u001b[39m{\u001b[39;00m\u001b[39mlen\u001b[39m(G)\u001b[39m}\u001b[39;00m\u001b[39m nodes and \u001b[39m\u001b[39m{\u001b[39;00m\u001b[39mlen\u001b[39m(G\u001b[39m.\u001b[39medges)\u001b[39m}\u001b[39;00m\u001b[39m edges\u001b[39m\u001b[39m\"\u001b[39m)\n\u001b[0;32m    362\u001b[0m \u001b[39mreturn\u001b[39;00m G\n",
      "File \u001b[1;32m~\\AppData\\Local\\Packages\\PythonSoftwareFoundation.Python.3.10_qbz5n2kfra8p0\\LocalCache\\local-packages\\Python310\\site-packages\\osmnx\\graph.py:432\u001b[0m, in \u001b[0;36mgraph_from_polygon\u001b[1;34m(polygon, network_type, simplify, retain_all, truncate_by_edge, clean_periphery, custom_filter)\u001b[0m\n\u001b[0;32m    429\u001b[0m poly_buff, _ \u001b[39m=\u001b[39m projection\u001b[39m.\u001b[39mproject_geometry(poly_proj_buff, crs\u001b[39m=\u001b[39mcrs_utm, to_latlong\u001b[39m=\u001b[39m\u001b[39mTrue\u001b[39;00m)\n\u001b[0;32m    431\u001b[0m \u001b[39m# download the network data from OSM within buffered polygon\u001b[39;00m\n\u001b[1;32m--> 432\u001b[0m response_jsons \u001b[39m=\u001b[39m downloader\u001b[39m.\u001b[39;49m_osm_network_download(poly_buff, network_type, custom_filter)\n\u001b[0;32m    434\u001b[0m \u001b[39m# create buffered graph from the downloaded data\u001b[39;00m\n\u001b[0;32m    435\u001b[0m bidirectional \u001b[39m=\u001b[39m network_type \u001b[39min\u001b[39;00m settings\u001b[39m.\u001b[39mbidirectional_network_types\n",
      "File \u001b[1;32m~\\AppData\\Local\\Packages\\PythonSoftwareFoundation.Python.3.10_qbz5n2kfra8p0\\LocalCache\\local-packages\\Python310\\site-packages\\osmnx\\downloader.py:534\u001b[0m, in \u001b[0;36m_osm_network_download\u001b[1;34m(polygon, network_type, custom_filter)\u001b[0m\n\u001b[0;32m    532\u001b[0m     osm_filter \u001b[39m=\u001b[39m custom_filter\n\u001b[0;32m    533\u001b[0m \u001b[39melse\u001b[39;00m:\n\u001b[1;32m--> 534\u001b[0m     osm_filter \u001b[39m=\u001b[39m _get_osm_filter(network_type)\n\u001b[0;32m    536\u001b[0m response_jsons \u001b[39m=\u001b[39m []\n\u001b[0;32m    538\u001b[0m \u001b[39m# create overpass settings string\u001b[39;00m\n",
      "File \u001b[1;32m~\\AppData\\Local\\Packages\\PythonSoftwareFoundation.Python.3.10_qbz5n2kfra8p0\\LocalCache\\local-packages\\Python310\\site-packages\\osmnx\\downloader.py:105\u001b[0m, in \u001b[0;36m_get_osm_filter\u001b[1;34m(network_type)\u001b[0m\n\u001b[0;32m    103\u001b[0m     osm_filter \u001b[39m=\u001b[39m filters[network_type]\n\u001b[0;32m    104\u001b[0m \u001b[39melse\u001b[39;00m:  \u001b[39m# pragma: no cover\u001b[39;00m\n\u001b[1;32m--> 105\u001b[0m     \u001b[39mraise\u001b[39;00m \u001b[39mValueError\u001b[39;00m(\u001b[39mf\u001b[39m\u001b[39m'\u001b[39m\u001b[39mUnrecognized network_type \u001b[39m\u001b[39m\"\u001b[39m\u001b[39m{\u001b[39;00mnetwork_type\u001b[39m}\u001b[39;00m\u001b[39m\"\u001b[39m\u001b[39m'\u001b[39m)\n\u001b[0;32m    107\u001b[0m \u001b[39mreturn\u001b[39;00m osm_filter\n",
      "\u001b[1;31mValueError\u001b[0m: Unrecognized network_type \"railway\""
     ]
    }
   ],
   "source": [
    "# Later.\n",
    "import osmnx as ox\n",
    "\n",
    "# Define the location and network type\n",
    "location = \"Paris, France\"\n",
    "network_type = \"railway\"\n",
    "\n",
    "# Retrieve the network data\n",
    "G = ox.graph_from_place(location, network_type=network_type)\n",
    "\n",
    "# Create the plot\n",
    "fig, ax = ox.plot_graph(G, node_size=0, edge_linewidth=1.5, edge_color=\"black\")\n"
   ]
  },
  {
   "cell_type": "code",
   "execution_count": 6,
   "metadata": {},
   "outputs": [
    {
     "ename": "TypeError",
     "evalue": "graph_from_bbox() got an unexpected keyword argument 'tags'",
     "output_type": "error",
     "traceback": [
      "\u001b[1;31m---------------------------------------------------------------------------\u001b[0m",
      "\u001b[1;31mTypeError\u001b[0m                                 Traceback (most recent call last)",
      "\u001b[1;32mc:\\Users\\sitra\\OneDrive\\Documents\\Data\\Kaggle\\Notebooks\\Housing2.ipynb Cell 4\u001b[0m in \u001b[0;36m<cell line: 8>\u001b[1;34m()\u001b[0m\n\u001b[0;32m      <a href='vscode-notebook-cell:/c%3A/Users/sitra/OneDrive/Documents/Data/Kaggle/Notebooks/Housing2.ipynb#W3sZmlsZQ%3D%3D?line=5'>6</a>\u001b[0m \u001b[39m# download the OSM data with the 'railway' tag\u001b[39;00m\n\u001b[0;32m      <a href='vscode-notebook-cell:/c%3A/Users/sitra/OneDrive/Documents/Data/Kaggle/Notebooks/Housing2.ipynb#W3sZmlsZQ%3D%3D?line=6'>7</a>\u001b[0m tags \u001b[39m=\u001b[39m {\u001b[39m'\u001b[39m\u001b[39mrailway\u001b[39m\u001b[39m'\u001b[39m: \u001b[39mTrue\u001b[39;00m}\n\u001b[1;32m----> <a href='vscode-notebook-cell:/c%3A/Users/sitra/OneDrive/Documents/Data/Kaggle/Notebooks/Housing2.ipynb#W3sZmlsZQ%3D%3D?line=7'>8</a>\u001b[0m G \u001b[39m=\u001b[39m ox\u001b[39m.\u001b[39;49mgraph_from_bbox(north, south, east, west, network_type\u001b[39m=\u001b[39;49m\u001b[39m'\u001b[39;49m\u001b[39mall\u001b[39;49m\u001b[39m'\u001b[39;49m, tags\u001b[39m=\u001b[39;49mtags)\n\u001b[0;32m     <a href='vscode-notebook-cell:/c%3A/Users/sitra/OneDrive/Documents/Data/Kaggle/Notebooks/Housing2.ipynb#W3sZmlsZQ%3D%3D?line=9'>10</a>\u001b[0m \u001b[39m# plot the network\u001b[39;00m\n\u001b[0;32m     <a href='vscode-notebook-cell:/c%3A/Users/sitra/OneDrive/Documents/Data/Kaggle/Notebooks/Housing2.ipynb#W3sZmlsZQ%3D%3D?line=10'>11</a>\u001b[0m fig, ax \u001b[39m=\u001b[39m ox\u001b[39m.\u001b[39mplot_graph(G)\n",
      "\u001b[1;31mTypeError\u001b[0m: graph_from_bbox() got an unexpected keyword argument 'tags'"
     ]
    }
   ],
   "source": [
    "import osmnx as ox\n",
    "\n",
    "# specify the bounding box for your map\n",
    "north, south, east, west = 40.7, 40.6, -74.0, -74.1\n",
    "\n",
    "# download the OSM data with the 'railway' tag\n",
    "tags = {'railway': True}\n",
    "G = ox.graph_from_bbox(north, south, east, west, network_type='all', tags=tags)\n",
    "\n",
    "# plot the network\n",
    "fig, ax = ox.plot_graph(G)\n"
   ]
  }
 ],
 "metadata": {
  "kernelspec": {
   "display_name": "Python 3",
   "language": "python",
   "name": "python3"
  },
  "language_info": {
   "codemirror_mode": {
    "name": "ipython",
    "version": 3
   },
   "file_extension": ".py",
   "mimetype": "text/x-python",
   "name": "python",
   "nbconvert_exporter": "python",
   "pygments_lexer": "ipython3",
   "version": "3.10.11"
  },
  "orig_nbformat": 4
 },
 "nbformat": 4,
 "nbformat_minor": 2
}
